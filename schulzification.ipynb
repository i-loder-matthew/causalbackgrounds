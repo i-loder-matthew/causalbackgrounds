{
 "cells": [
  {
   "cell_type": "markdown",
   "id": "b6f74544",
   "metadata": {},
   "source": [
    "A Schulz style treatment of conditionals, for a revised approach to earlier work in this directory. The key innovation/value is separating the dynamics from the possible worlds in a way that makes things easier to reason about. \n",
    "\n",
    "\n",
    "key issues to resolve: how do presuppositions and conditional presuppositions end up working out? how do local contexts work out?\n",
    "\n",
    "how do we (efficiently) calculate the basis of a world given a dynamics?\n",
    "\n",
    "\n",
    "\n",
    "We can simplify our models by getting rid of the U variables. \n",
    "\n",
    "\n",
    "\n",
    "# Key sections:\n",
    "- Define a class for our dynamics. \n",
    "    - Should provide a set of helper functions for determining the truth of an expression \n",
    "    - definition of causal dependence. \n",
    "    - definition of \n",
    "\n",
    "- Define an interpretation function. \n",
    "\n",
    "- Define objects for conversational structures. \n",
    "\n",
    "\n",
    "\n",
    "\n"
   ]
  },
  {
   "cell_type": "code",
   "execution_count": null,
   "id": "4a4a8df6",
   "metadata": {},
   "outputs": [],
   "source": [
    "# For handling trivalent logic with strong Kleene\n",
    "from trinary import Unknown, strictly, weakly\n",
    "from copy import copy, deepcopy\n",
    "from itertools import chain, combinations\n",
    "import numpy as np\n",
    "from functools import lru_cache\n",
    "\n",
    "def powerset(iterable):\n",
    "    \"powerset([1,2,3]) --> () (1,) (2,) (3,) (1,2) (1,3) (2,3) (1,2,3)\"\n",
    "    s = list(iterable)\n",
    "    return chain.from_iterable(combinations(s, r) for r in range(len(s)+1))\n",
    "\n",
    "def contains(l1, l2):\n",
    "    return all ([i in l1 for i in l2])\n",
    "\n",
    "def complement(u, l):\n",
    "    return [i for i in u if i not in l]\n",
    "\n",
    "def all3val(l):\n",
    "\n",
    "    value = True\n",
    "\n",
    "    i = 0\n",
    "    \n",
    "    while (i < len(l)):\n",
    "        value = value & l[i]\n",
    "        i += 1\n",
    "\n",
    "    return value\n",
    "\n",
    "def any3val(l):\n",
    "\n",
    "    value = False\n",
    "\n",
    "    i = 0\n",
    "\n",
    "    while (i < len(l)):\n",
    "        value = value | l[i]\n",
    "        i += 1\n",
    "\n",
    "    return value\n",
    "\n",
    "def ident(x):\n",
    "    return x\n",
    "\n",
    "class State: \n",
    "\n",
    "    def __init__(self, universe, tset, fset):\n",
    "        \"\"\"\n",
    "        universe: universe of atomic propositions. \n",
    "        tset: set of true atomic propositions. \n",
    "        fset: set of false atomic propositions. \n",
    "        \"\"\"\n",
    "\n",
    "        self._universe = set(universe)\n",
    "        self._tset = set(tset)\n",
    "        self._fset = set(fset)\n",
    "\n",
    "        # TODO: Add checks to ensure consistent state definitions.\n",
    "\n",
    "    def __getitem__(self, proposition):\n",
    "\n",
    "        if proposition not in self._universe:\n",
    "            return \"Error\"\n",
    "\n",
    "        if proposition in self._tset: \n",
    "            return True \n",
    "        elif proposition in self._fset:\n",
    "            return False\n",
    "        else:\n",
    "            return  Unknown\n",
    "        \n",
    "    def __len__(self):\n",
    "        return len(self._tset.union(self._fset))\n",
    "        \n",
    "    def __eq__(self, other):\n",
    "        return self._universe == other._universe and self._tset == other._tset and self._fset == other._fset\n",
    "    \n",
    "    def __lt__(self, other):\n",
    "        return self._universe == other._universe and len(self) < len(other) and contains(other._tset, self._tset) and contains(other._fset, self._fset) and contains(self.undefined(), other.undefined())\n",
    "\n",
    "    def __le__(self, other):\n",
    "        return self._universe == other._universe and len(self) <= len(other) and contains(other._tset, self._tset) and contains(other._fset, self._fset) and contains(self.undefined(), other.undefined())\n",
    "\n",
    "    def __hash__(self):\n",
    "        pass\n",
    "\n",
    "    def defined(self):\n",
    "        return self._tset.union(self._fset)\n",
    "\n",
    "    def undefined(self):\n",
    "        return self._universe - self.defined()\n",
    "        \n",
    "    def remap(self, proposition, value):\n",
    "\n",
    "        if strictly(self[proposition]): \n",
    "            self._tset.remove(proposition)\n",
    "        elif not (weakly(self[proposition])):\n",
    "            self._fset.remove(proposition)\n",
    "        \n",
    "        if strictly(value):\n",
    "            self._tset.add(proposition)\n",
    "        elif not (weakly(value)):\n",
    "            self._fset.add(proposition)\n",
    "\n",
    "    \n",
    "\n",
    "        "
   ]
  },
  {
   "cell_type": "code",
   "execution_count": 546,
   "id": "2e942c76",
   "metadata": {},
   "outputs": [],
   "source": [
    "# A Schulz style treatment of conditionals, for a revised approach. \n",
    "\n",
    "class Dynamics:\n",
    "    \n",
    "    def __init__(self, background, maps):\n",
    "\n",
    "        self._background = set(background)\n",
    "        self._maps = maps\n",
    "\n",
    "    def __getitem__(self, p):\n",
    "        \"\"\"\n",
    "        Given an internal variable, returns its value based upon the \n",
    "        \"\"\"\n",
    "        return self._maps[p]\n",
    "    \n",
    "    def get_background(self):\n",
    "        return self._background\n",
    "\n",
    "    def getvalue(self, p, s):\n",
    "\n",
    "        if p in self._maps.keys():\n",
    "\n",
    "            f, parents = self._maps[p]\n",
    "\n",
    "            return f ([s[par]for par in parents])\n",
    "        \n",
    "        else:\n",
    "            return s[p]\n",
    "\n",
    "\n",
    "    def run_model(self, s):\n",
    "        \"\"\"\n",
    "        situation: mapping of propositions to values.\n",
    "        returns: revised state\n",
    "        \"\"\"\n",
    "\n",
    "        # copy our starting situation\n",
    "        s_new = deepcopy(s)\n",
    "\n",
    "        internal_variables = [v for v in s._universe if v not in self._background]\n",
    "\n",
    "        for i in internal_variables:\n",
    "            value = self.getvalue(i, s)\n",
    "            if strictly(s[i]) != weakly(s[i]) and strictly(value) == weakly(value):\n",
    "                s_new.remap(i, value)\n",
    "        \n",
    "        return s_new\n",
    "\n",
    "    def fixed_point(self, s):\n",
    "\n",
    "        s_new = self.run_model(s)\n",
    "\n",
    "        while (s_new != s):\n",
    "            s = deepcopy(s_new)\n",
    "            s_new = self.run_model(s)\n",
    "\n",
    "        return s_new\n",
    "\n",
    "    def find_basis(self, w):\n",
    "\n",
    "        local_universe = w._universe\n",
    "\n",
    "        tsubsets = [set(i) for i in list(powerset(w._tset))]\n",
    "        fsubsets = [set(i) for i in list(powerset(w._fset))]\n",
    "\n",
    "        # find all subset situations, filter those for ones that meet the basis condition and then take the smallest. \n",
    "\n",
    "        subsituations = [s for t in tsubsets for f in fsubsets for s in [State(local_universe, t, f)] if self.fixed_point(s) == w]\n",
    "\n",
    "        return min(subsituations)\n",
    "    \n",
    "\n",
    "        \n",
    "\n",
    "        \n",
    "\n",
    "        \n",
    "\n",
    "\n",
    "\n"
   ]
  },
  {
   "cell_type": "code",
   "execution_count": 547,
   "id": "47ac173e",
   "metadata": {},
   "outputs": [],
   "source": [
    "\n",
    "def parse_to_tree(message):\n",
    "    # Maybe eventually replace this with a more general parsing algorithm\n",
    "\n",
    "    connectives = [\">\", \"-\", \"d\"]\n",
    "\n",
    "    if not any (conn in message for conn in connectives):\n",
    "        return [\"leaf\", message]\n",
    "    \n",
    "    else: \n",
    "        depths = []\n",
    "        connective_ixs = []\n",
    "        depth = 0\n",
    "\n",
    "        for i, c in enumerate(message):\n",
    "            if c == '(':\n",
    "                depth += 1\n",
    "            elif c == ')':\n",
    "                depth -= 1\n",
    "            elif c in connectives:\n",
    "                depths.append(depth)\n",
    "                connective_ixs.append(i)\n",
    "\n",
    "        least_c_ix = connective_ixs[np.argmin(depths)]\n",
    "\n",
    "        connective = message[least_c_ix]\n",
    "\n",
    "        if connective == '-':\n",
    "            if np.min(depths) == 0:\n",
    "                return [connective, parse_to_tree(message[least_c_ix + 1:])]\n",
    "            else:\n",
    "                return [connective, parse_to_tree(message[least_c_ix + 1:-1])]\n",
    "\n",
    "        if np.min(depths) == 0:\n",
    "            return [message[least_c_ix], parse_to_tree(message[:least_c_ix]), parse_to_tree(message[least_c_ix + 1:])]\n",
    "        else: \n",
    "            return [message[least_c_ix], parse_to_tree(message[1:least_c_ix]), parse_to_tree(message[least_c_ix + 1:-1])]\n",
    "\n",
    "\n",
    "\n",
    "         \n",
    "            \n"
   ]
  },
  {
   "cell_type": "markdown",
   "id": "41f99255",
   "metadata": {},
   "source": [
    "The next problem I want think about is how we can arrive at a set of worlds which is causally consistent with a dynamics - there are going to be a lot of strange sets of possible worlds that we might consider which could fuck with the basis and the definition for conditionals that we've arrived at. I should try to sharpen this intuition. \n",
    "\n",
    "We can imagine an example - imagine basically any world and dynamics where the basis is not the set of external variables in the model. For the switch example, one is given below:"
   ]
  },
  {
   "cell_type": "code",
   "execution_count": null,
   "id": "e7bae16d",
   "metadata": {},
   "outputs": [],
   "source": [
    "switch_universe = [\"a\", \"b\", \"c\"]\n",
    "\n",
    "w3 = State([\"a\", \"b\", \"c\"], [\"a\", \"c\"], [\"b\"])\n",
    "\n"
   ]
  },
  {
   "cell_type": "markdown",
   "id": "5d5152f2",
   "metadata": {},
   "source": [
    "On this kind of world, our treatment of the conditional will break a little bit. The solution, I suspect, will be to model inference of an expression, sensitive to multiple possible dynamics. \n",
    "\n",
    "To begin setting this up, we first need to think a little more seriously about how we want to manage our intepretation. We can define the interpretation function relative to a state. \n",
    "\n",
    "We also need to think about how we're going to manage presuppositions. The approach that I can see is to embed a failure value - so that a presupposition, evaluated against a world where it isn't true, returns the unknown value, and we define a bridge principle that requires that the expression be well-defined throughout the context. \n",
    "\n",
    "To manage conditionals, we'll define a version of causal entailment that is sensitive to presupposition. We'll start by redefing our interpretation function to handle our connectives, new literals, and whatever else:"
   ]
  },
  {
   "cell_type": "code",
   "execution_count": 636,
   "id": "e9f2a26d",
   "metadata": {},
   "outputs": [],
   "source": [
    "\n",
    "def interpret(tree, world, dynamics):\n",
    "    root_node_label = tree[0]\n",
    "\n",
    "    if root_node_label == \"leaf\": \n",
    "        proposition = tree[1]\n",
    "        return leaf(proposition, world)\n",
    "    elif root_node_label == \"d\":\n",
    "        assertion = tree[1]\n",
    "        presupposition = tree[2]\n",
    "        return presupposes(assertion, presupposition, world, dynamics)\n",
    "    elif root_node_label == \"-\":\n",
    "        prejacent = tree[1]\n",
    "        return neg(prejacent, world, dynamics)\n",
    "    elif root_node_label == \">\":\n",
    "        antecedent = tree[1]\n",
    "        consequent = tree[2]\n",
    "        return conditional(antecedent, consequent, world, dynamics)\n",
    "\n",
    "\n",
    "def leaf(p, world):\n",
    "    return world[p]\n",
    "\n",
    "\n",
    "def presupposes(tree1, tree2, world, dynamics):\n",
    "    # tree1 presupposes tree2\n",
    "    if not interpret(tree2, world, dynamics):\n",
    "        return Unknown\n",
    "    else:\n",
    "        return interpret(tree1, world, dynamics)\n",
    "\n",
    "def neg(tree, world, dynamics):\n",
    "    return ~ interpret(tree, world, dynamics) # use bitwise negation to handle the Unknown value\n",
    "\n",
    "\n",
    "def consequence(tree, situation, dynamics):\n",
    "    fixed_point = dynamics.fixed_point(situation)\n",
    "    return interpret(tree, fixed_point, dynamics)\n",
    "\n",
    "def conditional(tree1, tree2, world, dynamics):\n",
    "    \n",
    "    p, val = literal(tree1)\n",
    "    \n",
    "    basis = dynamics.find_basis(world)\n",
    "    basis.remap(p, val)\n",
    "\n",
    "    return consequence(tree2, basis, dynamics)\n",
    "\n",
    "\n",
    "def literal(tree1):\n",
    "\n",
    "    if tree1[0] == \"leaf\":\n",
    "        return (tree1[1], True)\n",
    "    elif tree1[0] == \"-\":\n",
    "        return (tree1[1][1], False)"
   ]
  },
  {
   "cell_type": "code",
   "execution_count": 551,
   "id": "484ecaf5",
   "metadata": {},
   "outputs": [
    {
     "data": {
      "text/plain": [
       "['-', ['>', ['>', ['leaf', 'a'], ['leaf', 'b']], ['leaf', 'c']]]"
      ]
     },
     "execution_count": 551,
     "metadata": {},
     "output_type": "execute_result"
    }
   ],
   "source": [
    "parse_to_tree(\"-(a>b)>c\")\n",
    "# things are right associative because min defaults to the first minimum - this is cool to me"
   ]
  },
  {
   "cell_type": "code",
   "execution_count": 639,
   "id": "300fe662",
   "metadata": {},
   "outputs": [],
   "source": [
    "# this will be our basic evaluation function for the literal listener, requires that the message be true at every world in the state, and defined at every world in the background. \n",
    "\n",
    "# we'll also later check that the state is consistent with the background and not entailed (proper subset of), and that the background is causally consistent with the dynamics (for each world, its basis corresponds to its external variables)\n",
    "\n",
    "# we can actually manage state as a single world \n",
    "\n",
    "def evaluate(message, world, background, dynamics):\n",
    "    message_tree = parse_to_tree(message)\n",
    "    \n",
    "    defined = all3val ([strictly(interpret(message_tree, b, dynamics)) == weakly(interpret(message_tree, b, dynamics)) for b in background])\n",
    "\n",
    "    return strictly(interpret(message_tree, world, dynamics)) and defined\n",
    "\n",
    "def causally_consistent(w, dynamics):\n",
    "    basis = dynamics.find_basis(w)\n",
    "\n",
    "    return basis.defined() == dynamics.get_background()\n"
   ]
  },
  {
   "cell_type": "code",
   "execution_count": 554,
   "id": "c62400a1",
   "metadata": {},
   "outputs": [],
   "source": [
    "scubaverse = [\"s\", \"w\", \"o\"]\n",
    "\n",
    "scubynamics1 = Dynamics([\"s\"], {\"w\": (all3val, [\"s\"]),\n",
    "                                \"o\": (all3val, [\"w\"])})\n",
    "\n",
    "scubynamics2 = Dynamics([\"s\"], {\"w\": (all3val, [\"s\"]),\n",
    "                                \"o\": (all3val, [\"w\", \"s\"])})\n",
    "\n",
    "# we should rename this to sitation in the cleaned up version\n",
    "squid1 = State(scubaverse, [\"s\", \"w\", \"o\"], [])"
   ]
  },
  {
   "cell_type": "code",
   "execution_count": null,
   "id": "bb83d12e",
   "metadata": {},
   "outputs": [
    {
     "data": {
      "text/plain": [
       "True"
      ]
     },
     "execution_count": 360,
     "metadata": {},
     "output_type": "execute_result"
    }
   ],
   "source": [
    "causally_consistent(squid1, scubynamics1) \n",
    "\n",
    "# to actually make things interesting, we probably need to add additional exogenous variables, an easy way of introducing incomplete dependence. "
   ]
  },
  {
   "cell_type": "code",
   "execution_count": 555,
   "id": "4ce0ee27",
   "metadata": {},
   "outputs": [],
   "source": [
    "def log_inf(x):\n",
    "    return np.log(x) if x > 0 else -float('Inf')\n",
    "\n",
    "def default_cost(m):\n",
    "    return len(m)\n",
    "\n",
    "\n"
   ]
  },
  {
   "cell_type": "code",
   "execution_count": null,
   "id": "18ababad",
   "metadata": {},
   "outputs": [],
   "source": [
    "\n",
    "\n",
    "class RSA:\n",
    "    \n",
    "    def __init__(self, messages, states, backgrounds, dynamics, interpretation_function, cost=default_cost, temp=1):\n",
    "\n",
    "        self.messages           = messages\n",
    "        self.states             = states\n",
    "        self.backgrounds        = backgrounds\n",
    "        self.dynamics           = dynamics\n",
    "        self.interpretation     = interpretation_function\n",
    "        self.cost               = cost\n",
    "        self.temp               = temp\n",
    "\n",
    "\n",
    "    def literal_listener(self, message, background, dyn):\n",
    "        # message, background, \n",
    "\n",
    "        state_prior = np.array([1 * (s in background and len(background) > 1) for s in self.states])\n",
    "\n",
    "        background_prior = 1 * all3val([causally_consistent(w, dyn) for w in background])\n",
    "\n",
    "        probs = np.array([self.interpretation(message, s, background, dyn) for s in self.states]) * state_prior * background_prior\n",
    "\n",
    "        return probs / sum(probs) if sum(probs) > 0 else probs\n",
    "    \n",
    "    \n",
    "    def pragmatic_speaker(self, state_ix, background, dyn):\n",
    "        # return distribution over messages. \n",
    "\n",
    "        U = np.array([np.vectorize(log_inf)(self.literal_listener(message, background, dyn))[state_ix] for message in self.messages])\n",
    "\n",
    "        probs = np.exp(self.temp * (U - np.array([self.cost(message) for message in self.messages])))\n",
    "\n",
    "        return probs / sum(probs) if sum(probs) > 0 else probs\n",
    "    \n",
    "\n",
    "    def pragmatic_listener(self, message_ix):\n",
    "\n",
    "\n",
    "        # 2D : B x S \n",
    "        speaker = np.array([[self.pragmatic_speaker(s, b, self.dynamics)[message_ix] for s, _ in enumerate(self.states)] for b in self.backgrounds ])\n",
    "       \n",
    "        # 2D : B x S\n",
    "        state_prior = np.array([[1 * (s in b and len(b) > 1) for s in self.states] for b in self.backgrounds] )\n",
    "\n",
    "        # 2D : B x S\n",
    "        background_prior = np.array([[1 * all3val([causally_consistent(w, self.dynamics) for w in b]) for s in self.states] for b in self.backgrounds])\n",
    "\n",
    "        probs = speaker * state_prior * background_prior\n",
    "\n",
    "        norm = sum(sum(probs))\n",
    "\n",
    "        return probs / norm if norm > 0 else probs\n",
    "\n",
    "    \n",
    "    # def speaker2(self, state_ix, background, dyn):\n",
    "\n",
    "\n",
    "\n",
    "\n",
    "        \n"
   ]
  },
  {
   "cell_type": "code",
   "execution_count": null,
   "id": "1e03ae12",
   "metadata": {},
   "outputs": [],
   "source": [
    "# Build a model for evaluation\n",
    "\n",
    "scubaverse = [\"s\", \"w\", \"o\", \"u1\", \"u2\"]\n",
    "\n",
    "scubynamics1 = Dynamics([\"s\", \"u1\", \"u2\"], {\"w\": (any3val, [\"s\", \"u1\"]),\n",
    "                                            \"o\": (any3val, [\"w\", \"u2\"])})\n",
    "\n",
    "scubynamics2 = Dynamics([\"s\", \"u1\", \"u2\"], {\"w\": (any3val, [\"s\", \"u1\"]),\n",
    "                                            \"o\": (all3val, [\"w\", \"s\", \"u2\"])})\n",
    "\n",
    "scubynamics3 = Dynamics([\"s\", \"u1\", \"u2\"], {\"w\": (all3val, [\"u1\"]), \n",
    "                                            \"o\": (all3val, [\"w\", \"s\", \"u2\"])})\n",
    "# a possible modification would be to consider a complex rule for our consequent (o and (s or u2))                                            \n",
    "\n",
    "# scuba_world_sets = [set(s) for s in powerset(scubaverse)]\n",
    "\n",
    "\n",
    "def build_model(universe, dynamics, messages,  cost=default_cost):\n",
    "\n",
    "    scuba_world_sets = [set(s) for s in powerset(universe)]\n",
    "\n",
    "    scuba_worlds = [s for s1 in scuba_world_sets for s2 in scuba_world_sets if len(s1.intersection(s2)) == 0 and len(s1.union(s2)) == len(universe) for s in [State(s1.union(s2), s1, s2)] if causally_consistent(s, dynamics)]\n",
    "\n",
    "    scuba_backgrounds = [list(s) for s in powerset(scuba_worlds) if len(s) > 0]\n",
    "\n",
    "\n",
    "\n",
    "    return RSA(messages, scuba_worlds, scuba_backgrounds, dynamics, evaluate, cost)\n",
    "\n",
    "# model1 = build_model(scubaverse, scubynamics3)\n",
    "# \n",
    "# model3 = build_model(scubaverse, scubynamics1)\n",
    "# model3prime = build_model(scubynamics1, cost = lambda x : 1)"
   ]
  },
  {
   "cell_type": "code",
   "execution_count": 717,
   "id": "f9e2ea27",
   "metadata": {},
   "outputs": [],
   "source": [
    "# m1_l1 = model1.pragmatic_listener(0)\n",
    "# m2_l1 = model2.pragmatic_listener(0)\n",
    "m3_l1 = model3.pragmatic_listener(0)"
   ]
  },
  {
   "cell_type": "code",
   "execution_count": 737,
   "id": "b45765f1",
   "metadata": {},
   "outputs": [],
   "source": [
    "m3_l1_prime = model3prime.pragmatic_listener(0)"
   ]
  },
  {
   "cell_type": "code",
   "execution_count": 700,
   "id": "9739908e",
   "metadata": {},
   "outputs": [],
   "source": [
    "\n",
    "def get_max_indices(listener):\n",
    "\n",
    "    maxp = listener.max()\n",
    "\n",
    "    (nb, ns) = listener.shape\n",
    "\n",
    "    flat = listener.flatten()\n",
    "\n",
    "    return [(i // ns, i % ns) for i in [ix for (ix, val) in enumerate(flat) if val == maxp]]\n",
    "\n",
    "# m1_ix = get_max_indices(m1_l1)\n",
    "# m2_ix = get_max_indices(m2_l1)\n",
    "m3_ix = get_max_indices(m3_l1)\n",
    "\n"
   ]
  },
  {
   "cell_type": "code",
   "execution_count": 653,
   "id": "ed3b310e",
   "metadata": {},
   "outputs": [],
   "source": [
    "def check_value(message, background, dynamics):\n",
    "    return all3val ([evaluate(message, w, background, dynamics) for w in background])"
   ]
  },
  {
   "cell_type": "code",
   "execution_count": null,
   "id": "473b5d09",
   "metadata": {},
   "outputs": [
    {
     "data": {
      "text/plain": [
       "True"
      ]
     },
     "execution_count": 661,
     "metadata": {},
     "output_type": "execute_result"
    }
   ],
   "source": [
    "check_value('s>w', model3.states, scubynamics1)\n",
    "\n"
   ]
  },
  {
   "cell_type": "code",
   "execution_count": 749,
   "id": "e98ca8ed",
   "metadata": {},
   "outputs": [],
   "source": [
    "# writing a general interpretation script:\n",
    "\n",
    "# first what's true at each world, do any presuppostions follow from the causal consistency requirement\n",
    "\n",
    "# then, which presuppositions hold at which backgrounds... \n",
    "\n",
    "def interpret_results(model, listener, target, cp, gp):\n",
    "\n",
    "    pmax = listener.max()\n",
    "\n",
    "    print(\"The max probability was \", pmax)\n",
    "\n",
    "    ixs = get_max_indices(listener)\n",
    "\n",
    "    max_backgrounds = [b for b, _ in ixs]\n",
    "    max_worlds = [w for _, w in ixs]\n",
    "\n",
    "    states = model.states\n",
    "\n",
    "    # Sanity checks, we don't necessary expect/want these to hold. \n",
    "    if check_value(target, states, model.dynamics):\n",
    "        print(\"The utterance is trivial at every causally consistent world in the model.\")\n",
    "\n",
    "    if check_value(cp, states, model.dynamics):\n",
    "        print(\"The conditional presupposition holds at every (causally consistent) world in the model.\")\n",
    "    elif any3val ([check_value(cp, [s], model.dynamics) for s in states]):\n",
    "        print(\"The conditional presupposition holds in at least one causally consistent world in the model.\")\n",
    "\n",
    "    if check_value(gp, states, model.dynamics):\n",
    "        print(\"The global presupposition holds at every causally consistent world in the model.\")\n",
    "\n",
    "    elif any3val ([check_value(gp, [s], model.dynamics) for s in states]):\n",
    "        print(\"The global presupposition holds in at least one causally consistent world in the model.\")\n",
    "\n",
    "    # Conditional presupposition\n",
    "    if all3val([check_value(cp, model.backgrounds[b], model.dynamics) for b in max_backgrounds]):\n",
    "        print(\"The conditional presupposition holds in all optimal backgrounds.\")\n",
    "\n",
    "    if all3val([check_value(gp, model.backgrounds[b], model.dynamics) for b in max_backgrounds]):\n",
    "        print(\"The global presupposition holds in all optimal backgrounds.\")\n",
    "\n",
    "    elif any3val([check_value(gp, model.backgrounds[b], model.dynamics) for b in max_backgrounds]):\n",
    "        print(\"The global presupposition holds in at least one optimal background.\")\n",
    "    \n",
    "    else:\n",
    "        print(\"The global presupposition holds in no optimal backgrounds.\")\n",
    "\n",
    "\n",
    "\n",
    "\n"
   ]
  },
  {
   "cell_type": "code",
   "execution_count": 718,
   "id": "53a298a7",
   "metadata": {},
   "outputs": [
    {
     "name": "stdout",
     "output_type": "stream",
     "text": [
      "The max probability was  0.0011734723752953918\n",
      "The utterance is trivial at every causally consistent world in the model.\n",
      "The conditional presupposition holds at every (causally consistent) world in the model.\n",
      "The global presupposition holds in at least one causally consistent world in the model.\n",
      "The conditional presupposition holds in all optimal backgrounds.\n",
      "The global presupposition holds in no optimal backgrounds.\n"
     ]
    }
   ],
   "source": [
    "interpret_results(model3, m3_l1)\n",
    "\n",
    "# Good result here! \n",
    "# The lack of conditional link forces a condtional, but not global presupposition. \n",
    "# None of the possible backgrounds entail the global presupposition. "
   ]
  },
  {
   "cell_type": "code",
   "execution_count": null,
   "id": "e7dcabac",
   "metadata": {},
   "outputs": [
    {
     "data": {
      "text/plain": [
       "(255, 8)"
      ]
     },
     "execution_count": 720,
     "metadata": {},
     "output_type": "execute_result"
    }
   ],
   "source": []
  },
  {
   "cell_type": "code",
   "execution_count": 704,
   "id": "4dc8d183",
   "metadata": {},
   "outputs": [
    {
     "name": "stdout",
     "output_type": "stream",
     "text": [
      "The max probability was  0.0021668472372697724\n",
      "The conditional presupposition holds at every (causally consistent) world in the model.\n",
      "The global presupposition holds in at least one causally consistent world in the model.\n",
      "The conditional presupposition holds in all optimal backgrounds.\n",
      "The global presupposition holds in no optimal backgrounds.\n"
     ]
    }
   ],
   "source": [
    "interpret_results(model3prime, m3prime_l1)"
   ]
  },
  {
   "cell_type": "code",
   "execution_count": null,
   "id": "c5485d12",
   "metadata": {},
   "outputs": [],
   "source": [
    "model3prime = build_model(scubynamics1, cost=lambda x: 1)\n",
    "m3p_l1 = model3prime.pragmatic_listener(0)"
   ]
  },
  {
   "cell_type": "markdown",
   "id": "4c087587",
   "metadata": {},
   "source": [
    "Currently, the system we've set up is not rich enough to distinguish between the cases we want to distinguish - this is because there's only one world which satisfies presuppositions and the properties of the assertion.  "
   ]
  },
  {
   "cell_type": "code",
   "execution_count": null,
   "id": "f266ab57",
   "metadata": {},
   "outputs": [
    {
     "name": "stdout",
     "output_type": "stream",
     "text": [
      "The max probability was  0.04981859480793297\n",
      "The utterance is trivial at every causally consistent world in the model.\n",
      "The conditional presupposition holds at every (causally consistent) world in the model.\n",
      "The global presupposition holds in at least one causally consistent world in the model.\n",
      "The conditional presupposition holds in all optimal backgrounds.\n",
      "The global presupposition holds in at least one optimal background.\n"
     ]
    }
   ],
   "source": [
    "interpret_results(model3prime, m3p_l1)\n",
    "\n",
    "# YAY this is a good result. "
   ]
  },
  {
   "cell_type": "code",
   "execution_count": null,
   "id": "7c7129fe",
   "metadata": {},
   "outputs": [],
   "source": [
    "# literal listeners (obviating the need for the RSA)\n",
    "\n",
    "m3_l0 = [model3.literal_listener('s>(odw)', b, model3.dynamics) for b in model3.backgrounds]\n",
    "\n",
    "m3_l0 = np.array(m3_l0)\n",
    "norm = sum(sum(m3_l0))\n",
    "m3_l0 = m3_l0 / norm "
   ]
  },
  {
   "cell_type": "code",
   "execution_count": null,
   "id": "3462fb51",
   "metadata": {},
   "outputs": [
    {
     "name": "stdout",
     "output_type": "stream",
     "text": [
      "The max probability was  0.0011734723752953918\n",
      "The utterance is trivial at every causally consistent world in the model.\n",
      "The conditional presupposition holds at every (causally consistent) world in the model.\n",
      "The global presupposition holds in at least one causally consistent world in the model.\n",
      "The conditional presupposition holds in all optimal backgrounds.\n",
      "The global presupposition holds in no optimal backgrounds.\n"
     ]
    }
   ],
   "source": [
    "interpret_results(model3, m3_l1)\n",
    "\n",
    "# "
   ]
  },
  {
   "cell_type": "code",
   "execution_count": null,
   "id": "cf3f6b61",
   "metadata": {},
   "outputs": [],
   "source": []
  },
  {
   "cell_type": "code",
   "execution_count": 746,
   "id": "7891e12c",
   "metadata": {},
   "outputs": [],
   "source": [
    "# EXPERIMENT 1\n",
    "\n",
    "universe1 = [\"a\", \"b\", \"c\"]\n",
    "\n",
    "dynamics1 = Dynamics([\"a\", \"b\"], \n",
    "                     {\"c\": (all3val, [\"a\", \"b\"])})\n",
    "\n",
    "messages = [\"a>(cdb)\", \"cdb\"]\n",
    "\n",
    "model = build_model(universe1, dynamics1, messages)\n",
    "\n",
    "l0 = np.array([model.literal_listener(\"a>(cdb)\", b, model.dynamics) for b in model.backgrounds])\n"
   ]
  },
  {
   "cell_type": "code",
   "execution_count": 750,
   "id": "6a8751cd",
   "metadata": {},
   "outputs": [
    {
     "name": "stdout",
     "output_type": "stream",
     "text": [
      "The max probability was  0.5\n",
      "The conditional presupposition holds in at least one causally consistent world in the model.\n",
      "The global presupposition holds in at least one causally consistent world in the model.\n",
      "The conditional presupposition holds in all optimal backgrounds.\n",
      "The global presupposition holds in all optimal backgrounds.\n"
     ]
    }
   ],
   "source": [
    "interpret_results(model, l0, \"a>(cdb)\", \"a>b\", \"b\")"
   ]
  },
  {
   "cell_type": "code",
   "execution_count": null,
   "id": "f1af167f",
   "metadata": {},
   "outputs": [],
   "source": []
  },
  {
   "cell_type": "markdown",
   "id": "7b652dd2",
   "metadata": {},
   "source": [
    "# Experiment 3 : Deeper recursions? Worth it?\n",
    "\n",
    "s"
   ]
  }
 ],
 "metadata": {
  "kernelspec": {
   "display_name": "base",
   "language": "python",
   "name": "python3"
  },
  "language_info": {
   "codemirror_mode": {
    "name": "ipython",
    "version": 3
   },
   "file_extension": ".py",
   "mimetype": "text/x-python",
   "name": "python",
   "nbconvert_exporter": "python",
   "pygments_lexer": "ipython3",
   "version": "3.11.11"
  }
 },
 "nbformat": 4,
 "nbformat_minor": 5
}
